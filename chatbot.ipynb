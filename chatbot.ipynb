{
 "cells": [
  {
   "cell_type": "code",
   "execution_count": 1,
   "metadata": {},
   "outputs": [],
   "source": [
    "import pandas as pd "
   ]
  },
  {
   "cell_type": "code",
   "execution_count": 2,
   "metadata": {},
   "outputs": [
    {
     "data": {
      "text/html": [
       "<div>\n",
       "<style scoped>\n",
       "    .dataframe tbody tr th:only-of-type {\n",
       "        vertical-align: middle;\n",
       "    }\n",
       "\n",
       "    .dataframe tbody tr th {\n",
       "        vertical-align: top;\n",
       "    }\n",
       "\n",
       "    .dataframe thead th {\n",
       "        text-align: right;\n",
       "    }\n",
       "</style>\n",
       "<table border=\"1\" class=\"dataframe\">\n",
       "  <thead>\n",
       "    <tr style=\"text-align: right;\">\n",
       "      <th></th>\n",
       "      <th>PassengerId</th>\n",
       "      <th>Survived</th>\n",
       "      <th>Pclass</th>\n",
       "      <th>Name</th>\n",
       "      <th>Sex</th>\n",
       "      <th>Age</th>\n",
       "      <th>SibSp</th>\n",
       "      <th>Parch</th>\n",
       "      <th>Ticket</th>\n",
       "      <th>Fare</th>\n",
       "      <th>Cabin</th>\n",
       "      <th>Embarked</th>\n",
       "    </tr>\n",
       "  </thead>\n",
       "  <tbody>\n",
       "    <tr>\n",
       "      <th>0</th>\n",
       "      <td>1</td>\n",
       "      <td>0</td>\n",
       "      <td>3</td>\n",
       "      <td>Braund, Mr. Owen Harris</td>\n",
       "      <td>male</td>\n",
       "      <td>22.0</td>\n",
       "      <td>1</td>\n",
       "      <td>0</td>\n",
       "      <td>A/5 21171</td>\n",
       "      <td>7.2500</td>\n",
       "      <td>NaN</td>\n",
       "      <td>S</td>\n",
       "    </tr>\n",
       "    <tr>\n",
       "      <th>1</th>\n",
       "      <td>2</td>\n",
       "      <td>1</td>\n",
       "      <td>1</td>\n",
       "      <td>Cumings, Mrs. John Bradley (Florence Briggs Th...</td>\n",
       "      <td>female</td>\n",
       "      <td>38.0</td>\n",
       "      <td>1</td>\n",
       "      <td>0</td>\n",
       "      <td>PC 17599</td>\n",
       "      <td>71.2833</td>\n",
       "      <td>C85</td>\n",
       "      <td>C</td>\n",
       "    </tr>\n",
       "    <tr>\n",
       "      <th>2</th>\n",
       "      <td>3</td>\n",
       "      <td>1</td>\n",
       "      <td>3</td>\n",
       "      <td>Heikkinen, Miss. Laina</td>\n",
       "      <td>female</td>\n",
       "      <td>26.0</td>\n",
       "      <td>0</td>\n",
       "      <td>0</td>\n",
       "      <td>STON/O2. 3101282</td>\n",
       "      <td>7.9250</td>\n",
       "      <td>NaN</td>\n",
       "      <td>S</td>\n",
       "    </tr>\n",
       "    <tr>\n",
       "      <th>3</th>\n",
       "      <td>4</td>\n",
       "      <td>1</td>\n",
       "      <td>1</td>\n",
       "      <td>Futrelle, Mrs. Jacques Heath (Lily May Peel)</td>\n",
       "      <td>female</td>\n",
       "      <td>35.0</td>\n",
       "      <td>1</td>\n",
       "      <td>0</td>\n",
       "      <td>113803</td>\n",
       "      <td>53.1000</td>\n",
       "      <td>C123</td>\n",
       "      <td>S</td>\n",
       "    </tr>\n",
       "    <tr>\n",
       "      <th>4</th>\n",
       "      <td>5</td>\n",
       "      <td>0</td>\n",
       "      <td>3</td>\n",
       "      <td>Allen, Mr. William Henry</td>\n",
       "      <td>male</td>\n",
       "      <td>35.0</td>\n",
       "      <td>0</td>\n",
       "      <td>0</td>\n",
       "      <td>373450</td>\n",
       "      <td>8.0500</td>\n",
       "      <td>NaN</td>\n",
       "      <td>S</td>\n",
       "    </tr>\n",
       "  </tbody>\n",
       "</table>\n",
       "</div>"
      ],
      "text/plain": [
       "   PassengerId  Survived  Pclass  \\\n",
       "0            1         0       3   \n",
       "1            2         1       1   \n",
       "2            3         1       3   \n",
       "3            4         1       1   \n",
       "4            5         0       3   \n",
       "\n",
       "                                                Name     Sex   Age  SibSp  \\\n",
       "0                            Braund, Mr. Owen Harris    male  22.0      1   \n",
       "1  Cumings, Mrs. John Bradley (Florence Briggs Th...  female  38.0      1   \n",
       "2                             Heikkinen, Miss. Laina  female  26.0      0   \n",
       "3       Futrelle, Mrs. Jacques Heath (Lily May Peel)  female  35.0      1   \n",
       "4                           Allen, Mr. William Henry    male  35.0      0   \n",
       "\n",
       "   Parch            Ticket     Fare Cabin Embarked  \n",
       "0      0         A/5 21171   7.2500   NaN        S  \n",
       "1      0          PC 17599  71.2833   C85        C  \n",
       "2      0  STON/O2. 3101282   7.9250   NaN        S  \n",
       "3      0            113803  53.1000  C123        S  \n",
       "4      0            373450   8.0500   NaN        S  "
      ]
     },
     "execution_count": 2,
     "metadata": {},
     "output_type": "execute_result"
    }
   ],
   "source": [
    "data = pd.read_csv(\"./Titanic-Dataset.csv\")\n",
    "data.head()"
   ]
  },
  {
   "cell_type": "code",
   "execution_count": 3,
   "metadata": {},
   "outputs": [
    {
     "data": {
      "text/plain": [
       "(891,\n",
       " PassengerId      int64\n",
       " Survived         int64\n",
       " Pclass           int64\n",
       " Name            object\n",
       " Sex             object\n",
       " Age            float64\n",
       " SibSp            int64\n",
       " Parch            int64\n",
       " Ticket          object\n",
       " Fare           float64\n",
       " Cabin           object\n",
       " Embarked        object\n",
       " dtype: object)"
      ]
     },
     "execution_count": 3,
     "metadata": {},
     "output_type": "execute_result"
    }
   ],
   "source": [
    "len(data), data.dtypes"
   ]
  },
  {
   "cell_type": "code",
   "execution_count": 4,
   "metadata": {},
   "outputs": [],
   "source": [
    "# Convert DataFrame to SQLite Database\n",
    "from sqlite3 import connect\n",
    "\n",
    "con = connect('titanic.db')\n",
    "data.to_sql(\"Passenger Data\", con, if_exists = 'replace')"
   ]
  },
  {
   "cell_type": "code",
   "execution_count": 5,
   "metadata": {},
   "outputs": [
    {
     "name": "stdout",
     "output_type": "stream",
     "text": [
      "\n",
      "CREATE TABLE \"Passenger Data\" (\n",
      "\t\"index\" INTEGER, \n",
      "\t\"PassengerId\" INTEGER, \n",
      "\t\"Survived\" INTEGER, \n",
      "\t\"Pclass\" INTEGER, \n",
      "\t\"Name\" TEXT, \n",
      "\t\"Sex\" TEXT, \n",
      "\t\"Age\" REAL, \n",
      "\t\"SibSp\" INTEGER, \n",
      "\t\"Parch\" INTEGER, \n",
      "\t\"Ticket\" TEXT, \n",
      "\t\"Fare\" REAL, \n",
      "\t\"Cabin\" TEXT, \n",
      "\t\"Embarked\" TEXT\n",
      ")\n",
      "\n",
      "/*\n",
      "3 rows from Passenger Data table:\n",
      "index\tPassengerId\tSurvived\tPclass\tName\tSex\tAge\tSibSp\tParch\tTicket\tFare\tCabin\tEmbarked\n",
      "0\t1\t0\t3\tBraund, Mr. Owen Harris\tmale\t22.0\t1\t0\tA/5 21171\t7.25\tNone\tS\n",
      "1\t2\t1\t1\tCumings, Mrs. John Bradley (Florence Briggs Thayer)\tfemale\t38.0\t1\t0\tPC 17599\t71.2833\tC85\tC\n",
      "2\t3\t1\t3\tHeikkinen, Miss. Laina\tfemale\t26.0\t0\t0\tSTON/O2. 3101282\t7.925\tNone\tS\n",
      "*/\n"
     ]
    }
   ],
   "source": [
    "# Create our SQL Database\n",
    "from langchain_community.utilities import SQLDatabase\n",
    "\n",
    "db = SQLDatabase.from_uri(\"sqlite:///titanic.db\", sample_rows_in_table_info=3)\n",
    "print(db.table_info)"
   ]
  },
  {
   "cell_type": "code",
   "execution_count": 12,
   "metadata": {},
   "outputs": [
    {
     "data": {
      "text/plain": [
       "<bound method Runnable.config_schema of ChatOpenAI(client=<openai.resources.chat.completions.Completions object at 0x7fcc64545eb0>, async_client=<openai.resources.chat.completions.AsyncCompletions object at 0x7fcc64548670>, temperature=0.0, openai_api_key=SecretStr('**********'), openai_proxy='')>"
      ]
     },
     "execution_count": 12,
     "metadata": {},
     "output_type": "execute_result"
    }
   ],
   "source": [
    "# Initialize Language Model from OpenAI\n",
    "from langchain_openai import ChatOpenAI \n",
    "import os\n",
    "\n",
    "os.environ['OPENAI_API_KEY'] = 'key'\n",
    "\n",
    "llm = ChatOpenAI(model=\"gpt-3.5-turbo\",\n",
    "                 temperature=0,\n",
    "                 openai_api_key=os.environ.get(\"OPENAI_API_KEY\")\n",
    "                )\n",
    "\n",
    "llm.config_schema"
   ]
  },
  {
   "cell_type": "code",
   "execution_count": 13,
   "metadata": {},
   "outputs": [
    {
     "name": "stdout",
     "output_type": "stream",
     "text": [
      "\n",
      "\n",
      "\u001b[1m> Entering new SQLDatabaseChain chain...\u001b[0m\n",
      "How many passengers were there?\n",
      "SQLQuery:\u001b[32;1m\u001b[1;3mSELECT COUNT(\"PassengerId\") AS total_passengers\n",
      "FROM \"Passenger Data\"\u001b[0m\n",
      "SQLResult: \u001b[33;1m\u001b[1;3m[(891,)]\u001b[0m\n",
      "Answer:\u001b[32;1m\u001b[1;3mThere were 891 passengers.\u001b[0m\n",
      "\u001b[1m> Finished chain.\u001b[0m\n"
     ]
    },
    {
     "data": {
      "text/plain": [
       "{'query': 'How many passengers were there?',\n",
       " 'result': 'There were 891 passengers.'}"
      ]
     },
     "execution_count": 13,
     "metadata": {},
     "output_type": "execute_result"
    }
   ],
   "source": [
    "# Use SQLDatabase Chain\n",
    "from langchain_experimental.sql.base import SQLDatabaseChain\n",
    "\n",
    "sql_db_chain = SQLDatabaseChain.from_llm(llm = llm, db = db, verbose = True)\n",
    "\n",
    "#sql_db_chain.invoke(\"How many passengers were there?\")"
   ]
  },
  {
   "cell_type": "code",
   "execution_count": 15,
   "metadata": {},
   "outputs": [
    {
     "name": "stdout",
     "output_type": "stream",
     "text": [
      "[('female', '0-19', 0.7066666666666667), ('female', '20-39', 0.7727272727272727), ('female', '40-59', 0.76), ('female', '60+', 0.7017543859649122), ('male', '0-19', 0.29213483146067415), ('male', '20-39', 0.18823529411764706), ('male', '40-59', 0.1839080459770115), ('male', '60+', 0.13013698630136986)]\n"
     ]
    }
   ],
   "source": [
    "# Custom Prompts\n",
    "sql_db_chain = SQLDatabaseChain.from_llm(llm = llm, db = db, verbose = True)\n",
    "\n",
    "connection = connect(\"titanic.db\")\n",
    "curr = connection.execute('''\n",
    "SELECT \"Sex\", \n",
    "    CASE \n",
    "        WHEN \"Age\" < 20 THEN '0-19'\n",
    "        WHEN \"Age\" >= 20 AND \"Age\" < 40 THEN '20-39'\n",
    "        WHEN \"Age\" >= 40 AND \"Age\" < 60 THEN '40-59'\n",
    "        ELSE '60+'\n",
    "    END AS \"Age_Bin\",\n",
    "    AVG(\"Survived\") AS \"Survival_Rate\"\n",
    "FROM \"Passenger Data\"\n",
    "GROUP BY \"Sex\", \"Age_Bin\"\n",
    "ORDER BY \"Sex\", \"Age_Bin\";\n",
    "''')\n",
    "\n",
    "print(curr.fetchall())"
   ]
  },
  {
   "cell_type": "code",
   "execution_count": 16,
   "metadata": {},
   "outputs": [],
   "source": [
    "curr.close()\n",
    "connection.close()"
   ]
  },
  {
   "cell_type": "code",
   "execution_count": 17,
   "metadata": {},
   "outputs": [],
   "source": [
    "prompt_template = '''\n",
    "Given an input question, first create a syntactically correct SQLite query to run, then look at the results of the query and return the answer to the input question.\n",
    "Unless the user specifies in the question a specific number of examples to obtain, query for at most 10 results using the LIMIT clause as per SQLite. You can order the results to return the most informative data in the database.\n",
    "Never query for all columns from a table. You must query only the columns that are needed to answer the question. Wrap each column name in double quotes (\") to denote them as delimited identifiers.\n",
    "Pay attention to use only the column names you can see in the tables below. Be careful to not query for columns that do not exist. Also, pay attention to which column is in which table.\n",
    "Pay attention to use date('now') function to get the current date, if the question involves \"today\".\n",
    "\n",
    "Use the following format:\n",
    "\n",
    "Question: Question here\n",
    "SQLQuery: SQL Query to run\n",
    "SQLResult: Result of the SQLQuery\n",
    "Answer: Final answer here\n",
    "\n",
    "Only use the following tables:\n",
    "CREATE TABLE \"Passenger Data\" (\n",
    "\t\"index\" INTEGER, \n",
    "\t\"PassengerId\" INTEGER, \n",
    "\t\"Survived\" INTEGER, \n",
    "\t\"Pclass\" INTEGER, \n",
    "\t\"Name\" TEXT, \n",
    "\t\"Sex\" TEXT, \n",
    "\t\"Age\" REAL, \n",
    "\t\"SibSp\" INTEGER, \n",
    "\t\"Parch\" INTEGER, \n",
    "\t\"Ticket\" TEXT, \n",
    "\t\"Fare\" REAL, \n",
    "\t\"Cabin\" TEXT, \n",
    "\t\"Embarked\" TEXT\n",
    ")\n",
    "\n",
    "/*\n",
    "3 rows from Passenger Data table:\n",
    "index\tPassengerId\tSurvived\tPclass\tName\tSex\tAge\tSibSp\tParch\tTicket\tFare\tCabin\tEmbarked\n",
    "0\t1\t0\t3\tBraund, Mr. Owen Harris\tmale\t22.0\t1\t0\tA/5 21171\t7.25\tNone\tS\n",
    "1\t2\t1\t1\tCumings, Mrs. John Bradley (Florence Briggs Thayer)\tfemale\t38.0\t1\t0\tPC 17599\t71.2833\tC85\tC\n",
    "2\t3\t1\t3\tHeikkinen, Miss. Laina\tfemale\t26.0\t0\t0\tSTON/O2. 3101282\t7.925\tNone\tS\n",
    "*/\n",
    "\n",
    "Question: {input}\n",
    "'''"
   ]
  },
  {
   "cell_type": "code",
   "execution_count": 18,
   "metadata": {},
   "outputs": [],
   "source": [
    "from langchain_core.prompts import PromptTemplate\n",
    "PROMPT = PromptTemplate.from_template(prompt_template, variables=['input'])"
   ]
  },
  {
   "cell_type": "code",
   "execution_count": 19,
   "metadata": {},
   "outputs": [],
   "source": [
    "sql_db_chain = SQLDatabaseChain.from_llm(llm = llm, db = db, verbose = True, prompt = PROMPT)"
   ]
  },
  {
   "cell_type": "code",
   "execution_count": 20,
   "metadata": {},
   "outputs": [
    {
     "name": "stdout",
     "output_type": "stream",
     "text": [
      "\n",
      "\n",
      "\u001b[1m> Entering new SQLDatabaseChain chain...\u001b[0m\n",
      "Provide the gender-wise survival rate along with age bins of 20.\n",
      "SQLQuery:\u001b[32;1m\u001b[1;3mSQLQuery: \n",
      "SELECT \"Sex\",\n",
      "       CASE\n",
      "           WHEN \"Age\" < 20 THEN '0-19'\n",
      "           WHEN \"Age\" >= 20 AND \"Age\" < 40 THEN '20-39'\n",
      "           WHEN \"Age\" >= 40 THEN '40+'\n",
      "           ELSE 'Unknown'\n",
      "       END AS \"Age_Bin\",\n",
      "       AVG(\"Survived\") AS \"Survival_Rate\"\n",
      "FROM \"Passenger Data\"\n",
      "GROUP BY \"Sex\", \"Age_Bin\"\n",
      "ORDER BY \"Sex\", \"Age_Bin\";\u001b[0m\n",
      "SQLResult: \u001b[33;1m\u001b[1;3m[('female', '0-19', 0.7066666666666667), ('female', '20-39', 0.7727272727272727), ('female', '40+', 0.7777777777777778), ('female', 'Unknown', 0.6792452830188679), ('male', '0-19', 0.29213483146067415), ('male', '20-39', 0.18823529411764706), ('male', '40+', 0.1743119266055046), ('male', 'Unknown', 0.12903225806451613)]\u001b[0m\n",
      "Answer:\u001b[32;1m\u001b[1;3mThe gender-wise survival rate along with age bins of 20 are as follows:\n",
      "- For females:\n",
      "  - Age 0-19: 70.67%\n",
      "  - Age 20-39: 77.27%\n",
      "  - Age 40+: 77.78%\n",
      "  - Age Unknown: 67.92%\n",
      "- For males:\n",
      "  - Age 0-19: 29.21%\n",
      "  - Age 20-39: 18.82%\n",
      "  - Age 40+: 17.43%\n",
      "  - Age Unknown: 12.90%\u001b[0m\n",
      "\u001b[1m> Finished chain.\u001b[0m\n"
     ]
    },
    {
     "data": {
      "text/plain": [
       "{'query': 'Provide the gender-wise survival rate along with age bins of 20.',\n",
       " 'result': 'The gender-wise survival rate along with age bins of 20 are as follows:\\n- For females:\\n  - Age 0-19: 70.67%\\n  - Age 20-39: 77.27%\\n  - Age 40+: 77.78%\\n  - Age Unknown: 67.92%\\n- For males:\\n  - Age 0-19: 29.21%\\n  - Age 20-39: 18.82%\\n  - Age 40+: 17.43%\\n  - Age Unknown: 12.90%'}"
      ]
     },
     "execution_count": 20,
     "metadata": {},
     "output_type": "execute_result"
    }
   ],
   "source": [
    "sql_db_chain.invoke(\"Provide the gender-wise survival rate along with age bins of 20.\")"
   ]
  },
  {
   "cell_type": "code",
   "execution_count": 21,
   "metadata": {},
   "outputs": [
    {
     "data": {
      "text/plain": [
       "RunnableAssign(mapper={\n",
       "  input: RunnableLambda(...),\n",
       "  table_info: RunnableLambda(...)\n",
       "})\n",
       "| RunnableLambda(lambda x: {k: v for (k, v) in x.items() if k not in ('question', 'table_names_to_use')})\n",
       "| PromptTemplate(input_variables=['input', 'table_info'], partial_variables={'top_k': '5'}, template='You are a SQLite expert. Given an input question, first create a syntactically correct SQLite query to run, then look at the results of the query and return the answer to the input question.\\nUnless the user specifies in the question a specific number of examples to obtain, query for at most {top_k} results using the LIMIT clause as per SQLite. You can order the results to return the most informative data in the database.\\nNever query for all columns from a table. You must query only the columns that are needed to answer the question. Wrap each column name in double quotes (\") to denote them as delimited identifiers.\\nPay attention to use only the column names you can see in the tables below. Be careful to not query for columns that do not exist. Also, pay attention to which column is in which table.\\nPay attention to use date(\\'now\\') function to get the current date, if the question involves \"today\".\\n\\nUse the following format:\\n\\nQuestion: Question here\\nSQLQuery: SQL Query to run\\nSQLResult: Result of the SQLQuery\\nAnswer: Final answer here\\n\\nOnly use the following tables:\\n{table_info}\\n\\nQuestion: {input}')\n",
       "| RunnableBinding(bound=ChatOpenAI(client=<openai.resources.chat.completions.Completions object at 0x7fcc64545eb0>, async_client=<openai.resources.chat.completions.AsyncCompletions object at 0x7fcc64548670>, temperature=0.0, openai_api_key=SecretStr('**********'), openai_proxy=''), kwargs={'stop': ['\\nSQLResult:']})\n",
       "| StrOutputParser()\n",
       "| RunnableLambda(_strip)"
      ]
     },
     "execution_count": 21,
     "metadata": {},
     "output_type": "execute_result"
    }
   ],
   "source": [
    "# Create SQL Query Chain\n",
    "from langchain.chains import create_sql_query_chain\n",
    "sql_chain = create_sql_query_chain(llm, db)\n",
    "sql_chain"
   ]
  },
  {
   "cell_type": "code",
   "execution_count": 22,
   "metadata": {},
   "outputs": [
    {
     "data": {
      "text/plain": [
       "'SELECT COUNT(\"PassengerId\") AS TotalPassengers\\nFROM \"Passenger Data\"'"
      ]
     },
     "execution_count": 22,
     "metadata": {},
     "output_type": "execute_result"
    }
   ],
   "source": [
    "response = sql_chain.invoke({\"question\": \"How many passengers were there?\"})\n",
    "response"
   ]
  },
  {
   "cell_type": "code",
   "execution_count": 23,
   "metadata": {},
   "outputs": [
    {
     "data": {
      "text/plain": [
       "'[(891,)]'"
      ]
     },
     "execution_count": 23,
     "metadata": {},
     "output_type": "execute_result"
    }
   ],
   "source": [
    "# Run SQL Query on Database\n",
    "from langchain_community.tools.sql_database.tool import QuerySQLDataBaseTool\n",
    "\n",
    "db_execution = QuerySQLDataBaseTool(db = db)\n",
    "execution_chain = sql_chain | db_execution\n",
    "\n",
    "response = execution_chain.invoke({\"question\": \"How many passengers were there?\"})\n",
    "response"
   ]
  },
  {
   "cell_type": "code",
   "execution_count": 32,
   "metadata": {},
   "outputs": [],
   "source": [
    "# Summarizing Final Results\n",
    "from operator import itemgetter\n",
    "from langchain_core.output_parsers import StrOutputParser\n",
    "from langchain_core.runnables import RunnablePassthrough\n",
    "from langchain_core.prompts import PromptTemplate\n",
    "\n",
    "template = '''\n",
    "Given the following user's quesion, corresponsing SQL query and SQL result, answer the user's question.\n",
    "Question: {question}\n",
    "SQL Query: {query}\n",
    "SQL Result: {result}\n",
    "Answer:\n",
    "'''\n",
    "prompt = PromptTemplate.from_template(template)\n",
    "\n",
    "output = prompt | llm | StrOutputParser()\n",
    "chain = (RunnablePassthrough.assign(query = sql_chain).assign(result = itemgetter(\"query\") | db_execution) | output)"
   ]
  },
  {
   "cell_type": "code",
   "execution_count": 25,
   "metadata": {},
   "outputs": [
    {
     "data": {
      "text/plain": [
       "{'question': 'How does the prices varies with respect to passenger classes?',\n",
       " 'query': 'SELECT \"Pclass\", AVG(\"Fare\") AS \"Average Fare\"\\nFROM \"Passenger Data\"\\nGROUP BY \"Pclass\"\\nORDER BY \"Pclass\";'}"
      ]
     },
     "execution_count": 25,
     "metadata": {},
     "output_type": "execute_result"
    }
   ],
   "source": [
    "ch = RunnablePassthrough.assign(query = sql_chain)\n",
    "ch.invoke({\"question\": \"How does the prices varies with respect to passenger classes?\"})"
   ]
  },
  {
   "cell_type": "code",
   "execution_count": 26,
   "metadata": {},
   "outputs": [
    {
     "data": {
      "text/plain": [
       "{'question': 'How does the prices varies with respect to passenger classes?',\n",
       " 'query': 'SELECT \"Pclass\", AVG(\"Fare\") AS \"Average Fare\"\\nFROM \"Passenger Data\"\\nGROUP BY \"Pclass\"\\nORDER BY \"Pclass\";',\n",
       " 'result': '[(1, 84.15468749999992), (2, 20.66218315217391), (3, 13.675550101832997)]'}"
      ]
     },
     "execution_count": 26,
     "metadata": {},
     "output_type": "execute_result"
    }
   ],
   "source": [
    "ch2 = RunnablePassthrough.assign(query = sql_chain).assign(result = itemgetter(\"query\") | db_execution)\n",
    "ch2.invoke({\"question\": \"How does the prices varies with respect to passenger classes?\"})"
   ]
  },
  {
   "cell_type": "code",
   "execution_count": 35,
   "metadata": {},
   "outputs": [],
   "source": [
    "# Showcasing in UI with Gradio\n",
    "import gradio as gr\n",
    "\n",
    "template = '''\n",
    "Given the following user's quesion, corresponsing SQL query and SQL result, answer the user's question.\n",
    "Question: {question}\n",
    "SQL Query: {sql_query}\n",
    "SQL Result: {result}\n",
    "Answer:\n",
    "'''\n",
    "prompt = PromptTemplate.from_template(template)"
   ]
  },
  {
   "cell_type": "code",
   "execution_count": 36,
   "metadata": {},
   "outputs": [],
   "source": [
    "def create_chain(question):\n",
    "    db = SQLDatabase.from_uri(\"sqlite:///titanic.db\", sample_rows_in_table_info = 3)\n",
    "    sql_chain = create_sql_query_chain(llm, db)\n",
    "    db_execution = QuerySQLDataBaseTool(db = db)\n",
    "    output = prompt | llm | StrOutputParser()\n",
    "    chain = (RunnablePassthrough.assign(sql_query = sql_chain).assign(result = itemgetter(\"sql_query\") | db_execution) | output)\n",
    "\n",
    "    return chain.invoke({\"question\": question})"
   ]
  },
  {
   "cell_type": "code",
   "execution_count": 37,
   "metadata": {},
   "outputs": [],
   "source": [
    "def extract_data(user_message, history):\n",
    "    question_with_history = \"\"\n",
    "    for hist in history[-3:]:\n",
    "        question_with_history += f\"User: {hist[0]}\\nAssistant: {hist[1]}\\n\"\n",
    "    question_with_history += f\"User: {user_message}\\n\"\n",
    "    print(\"Input to LLM:\\n\", question_with_history)\n",
    "\n",
    "    bot_message = create_chain(question_with_history)\n",
    "\n",
    "    history += [[user_message, bot_message]]\n",
    "\n",
    "    return bot_message, history"
   ]
  },
  {
   "cell_type": "code",
   "execution_count": 39,
   "metadata": {},
   "outputs": [
    {
     "name": "stdout",
     "output_type": "stream",
     "text": [
      "Running on local URL:  http://127.0.0.1:7861\n",
      "Running on public URL: https://2f249df0e24359ef95.gradio.live\n",
      "\n",
      "This share link expires in 72 hours. For free permanent hosting and GPU upgrades, run `gradio deploy` from Terminal to deploy to Spaces (https://huggingface.co/spaces)\n"
     ]
    },
    {
     "data": {
      "text/html": [
       "<div><iframe src=\"https://2f249df0e24359ef95.gradio.live\" width=\"100%\" height=\"500\" allow=\"autoplay; camera; microphone; clipboard-read; clipboard-write;\" frameborder=\"0\" allowfullscreen></iframe></div>"
      ],
      "text/plain": [
       "<IPython.core.display.HTML object>"
      ]
     },
     "metadata": {},
     "output_type": "display_data"
    },
    {
     "data": {
      "text/plain": []
     },
     "execution_count": 39,
     "metadata": {},
     "output_type": "execute_result"
    },
    {
     "name": "stdout",
     "output_type": "stream",
     "text": [
      "Input to LLM:\n",
      " User: what are the number of passengers\n",
      "\n",
      "LLM Response:  The number of passengers in the \"Passenger Data\" table is 891.\n"
     ]
    }
   ],
   "source": [
    "with gr.Blocks() as demo:\n",
    "    chatbot = gr.Chatbot(label=\"Chat with Data\")\n",
    "    msg = gr.Textbox(label=\"Question\", placeholder=\"Enter your question here\")\n",
    "    clear = gr.Button(\"Clear\")\n",
    "\n",
    "    def user(user_message, history):\n",
    "        bot_message, history = extract_data(user_message, history)\n",
    "        print(\"LLM Response: \", bot_message)\n",
    "        return \"\", history\n",
    "    \n",
    "    msg.submit(user, [msg, chatbot], [msg, chatbot], queue=False)\n",
    "    clear.click(lambda: None, None, chatbot, queue=False)\n",
    "\n",
    "demo.queue()\n",
    "demo.launch(share=True)"
   ]
  }
 ],
 "metadata": {
  "kernelspec": {
   "display_name": "Python 3",
   "language": "python",
   "name": "python3"
  },
  "language_info": {
   "codemirror_mode": {
    "name": "ipython",
    "version": 3
   },
   "file_extension": ".py",
   "mimetype": "text/x-python",
   "name": "python",
   "nbconvert_exporter": "python",
   "pygments_lexer": "ipython3",
   "version": "3.9.7"
  },
  "orig_nbformat": 4
 },
 "nbformat": 4,
 "nbformat_minor": 2
}
